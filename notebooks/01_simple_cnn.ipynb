{
  "cells": [
    {
      "cell_type": "markdown",
      "metadata": {
        "id": "0e0e8602"
      },
      "source": [
        "# Simple CNN for Cell Segmentation\n",
        "[![Open In Colab](https://colab.research.google.com/assets/colab-badge.svg)](https://colab.research.google.com/github/MateiGoidan/CellSeg/blob/main/notebooks/01_simple_cnn.ipynb)\n",
        "\n",
        "---\n",
        "## 1. Setup\n",
        "Import dependencies and configure environment.\n"
      ]
    },
    {
      "cell_type": "code",
      "execution_count": null,
      "metadata": {
        "cellView": "form",
        "id": "Ezf7OvJrNcWt"
      },
      "outputs": [],
      "source": [
        "# @title Conectare la drive\n",
        "from google.colab import drive\n",
        "\n",
        "drive.mount('/content/drive/')"
      ]
    },
    {
      "cell_type": "code",
      "execution_count": null,
      "metadata": {
        "id": "ja4B9pLTm4KO"
      },
      "outputs": [],
      "source": [
        "# @title Imports\n",
        "\n",
        "import tensorflow as tf\n",
        "from tensorflow.keras import layers, models, regularizers\n",
        "import tensorflow.keras.backend as K\n",
        "import numpy as np\n",
        "from PIL import Image\n",
        "import os\n",
        "import matplotlib.pyplot as plt"
      ]
    },
    {
      "cell_type": "markdown",
      "metadata": {
        "id": "39D6I4KX-0da"
      },
      "source": [
        "# Dataset"
      ]
    },
    {
      "cell_type": "code",
      "execution_count": null,
      "metadata": {
        "id": "Xa7Kd1OClrha"
      },
      "outputs": [],
      "source": [
        "# @title Setari cale\n",
        "\n",
        "train_img_path = \"/content/drive/MyDrive/Facultate/Licenta/ds1/train/img/cls\"\n",
        "train_bin_mask_path = \"/content/drive/MyDrive/Facultate/Licenta/ds1/train/bin_mask/cls\"\n",
        "train_mult_mask_path = \"/content/drive/MyDrive/Facultate/Licenta/ds1/train/mult_mask/cls\"\n",
        "\n",
        "validation_img_path = \"/content/drive/MyDrive/Facultate/Licenta/ds1/validation/img/cls\"\n",
        "validation_bin_mask_path = \"/content/drive/MyDrive/Facultate/Licenta/ds1/validation/bin_mask/cls\"\n",
        "validation_mult_mask_path = \"/content/drive/MyDrive/Facultate/Licenta/ds1/validation/mult_mask/cls\"\n"
      ]
    },
    {
      "cell_type": "code",
      "execution_count": null,
      "metadata": {
        "id": "7MD1IEz3l-s1"
      },
      "outputs": [],
      "source": [
        "# @title Incarcam path-urile\n",
        "\n",
        "def load_paths(imd_dir, mask_dir):\n",
        "  image_paths = sorted([os.path.join(imd_dir, file_name) for file_name in os.listdir(imd_dir) if file_name.endswith(\".tif\")])\n",
        "  mask_paths = sorted([os.path.join(mask_dir, file_name) for file_name in os.listdir(mask_dir) if file_name.endswith(\".tif\")])\n",
        "  return image_paths, mask_paths\n",
        "\n",
        "train_img_paths, train_mask_paths = load_paths(train_img_path, train_mult_mask_path)\n",
        "\n",
        "validation_img_paths, validation_mask_paths = load_paths(validation_img_path, validation_mult_mask_path)"
      ]
    },
    {
      "cell_type": "code",
      "execution_count": null,
      "metadata": {
        "id": "xjEtmb8o-63i"
      },
      "outputs": [],
      "source": [
        "# @title Augumentare data\n",
        "\n",
        "def augment_data(image, mask):\n",
        "  # Random flip orizontal\n",
        "  if tf.random.uniform(()) > 0.5:\n",
        "    image = tf.image.flip_left_right(image)\n",
        "    mask = tf.image.flip_left_right(mask)\n",
        "\n",
        "  # Random flip vertical\n",
        "  if tf.random.uniform(()) > 0.5:\n",
        "    image = tf.image.flip_up_down(image)\n",
        "    mask = tf.image.flip_up_down(mask)\n",
        "\n",
        "  # Random rotire\n",
        "  angle = tf.random.uniform(shape=[], minval=0, maxval=4, dtype=tf.int32)\n",
        "  image = tf.image.rot90(image, angle)\n",
        "  mask = tf.image.rot90(mask, angle)\n",
        "\n",
        "  # Random zoom\n",
        "  if tf.random.uniform(()) > 0.5:\n",
        "    scales = list(np.arange(0.8, 1.0, 0.01))\n",
        "    scale = np.random.choice(scales)\n",
        "    new_height = tf.cast(1040 * scale, tf.int32)\n",
        "    new_width = tf.cast(1392 * scale, tf.int32)\n",
        "\n",
        "    image = tf.image.resize(image, (new_height, new_width))\n",
        "    mask = tf.image.resize(mask, (new_height, new_width), method='nearest')\n",
        "\n",
        "    image = tf.image.resize_with_crop_or_pad(image, 1040, 1392)\n",
        "    mask = tf.image.resize_with_crop_or_pad(mask, 1040, 1392)\n",
        "\n",
        "  return image, mask"
      ]
    },
    {
      "cell_type": "code",
      "execution_count": null,
      "metadata": {
        "id": "rK8KIdoS8SO8"
      },
      "outputs": [],
      "source": [
        "# @title Preprocesare imagine + masca\n",
        "\n",
        "def load_tif_with_pil(path):\n",
        "  img = Image.open(path.numpy().decode('utf-8'))\n",
        "  img = img.convert('L') # Convertim la grayscale\n",
        "  img = np.array(img, dtype=np.float32)\n",
        "  return img\n",
        "\n",
        "def preprocess_bin(image_path, mask_path):\n",
        "  # Citim imaginea\n",
        "  image = tf.py_function(func=load_tif_with_pil, inp=[image_path], Tout=tf.float32)\n",
        "  image = tf.expand_dims(image, axis=-1)\n",
        "  image.set_shape([1040, 1392, 1])\n",
        "\n",
        "  # Citim masca\n",
        "  mask = tf.py_function(func=load_tif_with_pil, inp=[image_path], Tout=tf.float32)\n",
        "  mask = tf.expand_dims(mask, axis=-1)\n",
        "  mask.set_shape([1040, 1392, 1])\n",
        "\n",
        "  # Normalizare si\n",
        "  image = tf.cast(image, tf.float32) / 255.0\n",
        "  mask = tf.cast(mask, tf.float32) / 255.0\n",
        "\n",
        "  # image.set_shape([1040, 1392, 1])\n",
        "  # mask.set_shape([1040, 1392, 1])\n",
        "\n",
        "  return image, mask\n",
        "\n",
        "def preprocess_mult(image_path, mask_path):\n",
        "  # Citim imaginea\n",
        "  image = tf.py_function(func=load_tif_with_pil, inp=[image_path], Tout=tf.float32)\n",
        "  image = tf.expand_dims(image, axis=-1)\n",
        "  image.set_shape([1040, 1392, 1])\n",
        "\n",
        "  # Citim masca\n",
        "  mask = tf.py_function(func=load_tif_with_pil, inp=[mask_path], Tout=tf.float32)\n",
        "  mask = tf.expand_dims(mask, axis=-1)\n",
        "  mask.set_shape([1040, 1392, 1])\n",
        "\n",
        "  # Normalizare\n",
        "  image = tf.cast(image, tf.float32) / 255.0\n",
        "  mask = tf.cast(mask, tf.float32)\n",
        "\n",
        "  return image, mask"
      ]
    },
    {
      "cell_type": "code",
      "execution_count": null,
      "metadata": {
        "id": "qVTXATwancoQ"
      },
      "outputs": [],
      "source": [
        "# @title Creare dataset-ului\n",
        "\n",
        "def create_dataset(image_paths, mask_paths, batch_size=2, shuffle=True, augment=False):\n",
        "  dataset = tf.data.Dataset.from_tensor_slices((image_paths, mask_paths))\n",
        "  dataset = dataset.map(preprocess_mult, num_parallel_calls=tf.data.AUTOTUNE)\n",
        "\n",
        "  if augment:\n",
        "    dataset = dataset.map(augment_data, num_parallel_calls=tf.data.AUTOTUNE)\n",
        "\n",
        "  if shuffle:\n",
        "    dataset = dataset.shuffle(buffer_size=100)\n",
        "\n",
        "  dataset = dataset.batch(batch_size)\n",
        "  dataset = dataset.prefetch(tf.data.AUTOTUNE)\n",
        "  return dataset\n",
        "\n",
        "train_dataset = create_dataset(train_img_paths, train_mask_paths, augment=True)\n",
        "validation_dataset = create_dataset(validation_img_paths, validation_mask_paths)"
      ]
    },
    {
      "cell_type": "code",
      "execution_count": null,
      "metadata": {
        "id": "74-gXzhCj7yZ"
      },
      "outputs": [],
      "source": [
        "# @title Verificare shape imagini + masca\n",
        "\n",
        "for images, masks in validation_dataset.take(1):\n",
        "  print(\"Shape imagini batch:\", images.shape)\n",
        "  print(\"Shape măști batch:\", masks.shape)\n"
      ]
    },
    {
      "cell_type": "markdown",
      "metadata": {
        "id": "GAWHpZDZ-47l"
      },
      "source": [
        "# Model CNN Simplu Binar"
      ]
    },
    {
      "cell_type": "code",
      "execution_count": null,
      "metadata": {
        "id": "zNdhxNPF8dCx"
      },
      "outputs": [],
      "source": [
        "# @title Model CNN simplu\n",
        "\n",
        "from tensorflow.keras import layers, models\n",
        "\n",
        "def build_simple_cnn(input_shape=(1040, 1392, 1)):\n",
        "  input = layers.Input(shape=input_shape)\n",
        "\n",
        "  # Encoder\n",
        "  x = layers.Conv2D(16, (3, 3), activation='relu', padding='same')(input)\n",
        "  x = layers.MaxPooling2D((2, 2), padding='same')(x)\n",
        "\n",
        "  x = layers.Conv2D(32, (3, 3), activation='relu', padding='same')(x)\n",
        "  x = layers.MaxPooling2D((2, 2), padding='same')(x)\n",
        "\n",
        "  # Decoder\n",
        "  x = layers.Conv2DTranspose(32, (2, 2), strides=2, activation='relu', padding='same')(x)\n",
        "  x = layers.Conv2DTranspose(16, (2, 2), strides=2, activation='relu', padding='same')(x)\n",
        "\n",
        "  # Strat de iesire\n",
        "  outputs = layers.Conv2D(1, (1, 1), activation='sigmoid', padding='same')(x)\n",
        "\n",
        "  model = models.Model(inputs=input, outputs=outputs)\n",
        "  return model"
      ]
    },
    {
      "cell_type": "code",
      "execution_count": null,
      "metadata": {
        "id": "aFJfPQWdPOOx"
      },
      "outputs": [],
      "source": [
        "# @title Metrici custom\n",
        "\n",
        "import tensorflow.keras.backend as K\n",
        "\n",
        "# Intersection over Union (IoU)\n",
        "def iou(y_true, y_pred):\n",
        "  y_pred = K.cast(y_pred > 0.5, 'float32')\n",
        "  intersection = K.sum(y_true * y_pred)\n",
        "  union = K.sum(y_true) + K.sum(y_pred) - intersection\n",
        "  return intersection / (union + K.epsilon())\n",
        "\n",
        "def dice(y_true, y_pred):\n",
        "  y_pred = K.cast(y_pred > 0.5, 'float32')\n",
        "  intersection = K.sum(y_true * y_pred)\n",
        "  dice = (2. * intersection) / (K.sum(y_true) + K.sum(y_pred) + K.epsilon())\n",
        "  return dice"
      ]
    },
    {
      "cell_type": "code",
      "execution_count": null,
      "metadata": {
        "id": "8vfoMZ_Q9UFS"
      },
      "outputs": [],
      "source": [
        "# @title Construire si compilare a modelului\n",
        "\n",
        "simple_CNN = build_simple_cnn()\n",
        "\n",
        "simple_CNN.compile(optimizer='adam', loss='binary_crossentropy', metrics=['accuracy', iou, dice])\n",
        "\n",
        "simple_CNN.summary()"
      ]
    },
    {
      "cell_type": "code",
      "execution_count": null,
      "metadata": {
        "id": "1NQdYetw-Jro"
      },
      "outputs": [],
      "source": [
        "# @title Antranare model\n",
        "\n",
        "train = simple_CNN.fit(train_dataset, validation_data=validation_dataset, epochs=5)"
      ]
    },
    {
      "cell_type": "code",
      "execution_count": null,
      "metadata": {
        "id": "lzjErwFUfyZ1"
      },
      "outputs": [],
      "source": [
        "for images, masks in validation_dataset.take(1):\n",
        "  print(\"Pixelii unici în ground truth:\", tf.unique(tf.reshape(masks, [-1]))[0].numpy())"
      ]
    },
    {
      "cell_type": "code",
      "execution_count": null,
      "metadata": {
        "id": "Qse844Pugt_D"
      },
      "outputs": [],
      "source": [
        "from PIL import Image\n",
        "import numpy as np\n",
        "\n",
        "# Exemplu: deschidem un mask .tif brut\n",
        "mask_path = \"/content/drive/MyDrive/Facultate/Licenta/ds1/train/bin_mask/cls/0001.tif\"  # înlocuiește cu un fișier real\n",
        "mask_image = Image.open(mask_path)\n",
        "mask_array = np.array(mask_image)\n",
        "\n",
        "print(\"Valori unice în mască:\", np.unique(mask_array))\n"
      ]
    },
    {
      "cell_type": "code",
      "execution_count": null,
      "metadata": {
        "id": "pabr5wWs_g3g"
      },
      "outputs": [],
      "source": [
        "# import matplotlib.pyplot as plt\n",
        "\n",
        "# for images, masks in validation_dataset.take(1):\n",
        "#     preds = simple_CNN.predict(images)\n",
        "#     preds = (preds > 0.5).astype(np.float32)  # threshold la 0.5\n",
        "\n",
        "#     plt.figure(figsize=(6, 20))\n",
        "#     for i in range(2):  # 2 imagini\n",
        "#         plt.subplot(3, 2, 1+i)\n",
        "#         plt.imshow(tf.squeeze(images[i]), cmap='gray')\n",
        "#         plt.title('Imagine originală')\n",
        "\n",
        "#         plt.subplot(3, 2, 3+i)\n",
        "#         plt.imshow(tf.squeeze(masks[i]), cmap='gray')\n",
        "#         plt.title('Ground truth (etichete)')\n",
        "\n",
        "#         plt.subplot(3, 2, 5+i)\n",
        "#         plt.imshow(tf.squeeze(preds[i]), cmap='gray')\n",
        "#         plt.title('Predicție model')\n",
        "#     plt.show()\n",
        "\n",
        "simple_CNN.evaluate(validation_dataset)"
      ]
    },
    {
      "cell_type": "code",
      "execution_count": null,
      "metadata": {
        "id": "ZBjPf9kVpM1X"
      },
      "outputs": [],
      "source": []
    },
    {
      "cell_type": "markdown",
      "metadata": {
        "id": "3Qj1sTTSi8qK"
      },
      "source": [
        "# Model CNN Simplu Multi-Clasa"
      ]
    },
    {
      "cell_type": "code",
      "execution_count": null,
      "metadata": {
        "cellView": "form",
        "id": "ZQFF9DqgjTdC"
      },
      "outputs": [],
      "source": [
        "# @title Model Multi-Clasa\n",
        "\n",
        "from tensorflow.keras import layers, models\n",
        "\n",
        "def build_simple_cnn_multiclass(input_shape=(1040, 1392, 1), num_classes=8):\n",
        "  input = layers.Input(shape=input_shape)\n",
        "\n",
        "  # Encoder\n",
        "  x = layers.Conv2D(16, (3, 3), activation='relu', padding='same')(input)\n",
        "  x = layers.MaxPooling2D((2, 2))(x)\n",
        "\n",
        "  x = layers.Conv2D(32, (3, 3), activation='relu', padding='same')(x)\n",
        "  x = layers.MaxPooling2D((2, 2))(x)\n",
        "\n",
        "  # Decoder\n",
        "  x = layers.Conv2DTranspose(32, (2, 2), strides=2, activation='relu', padding='same')(x)\n",
        "  x = layers.Conv2DTranspose(16, (2, 2), strides=2, activation='relu', padding='same')(x)\n",
        "\n",
        "  # Output\n",
        "  outputs = layers.Conv2D(num_classes, (1, 1), activation='softmax')(x)\n",
        "\n",
        "  model = models.Model(inputs=input, outputs=outputs)\n",
        "  return model"
      ]
    },
    {
      "cell_type": "code",
      "execution_count": null,
      "metadata": {
        "id": "H3BdWM_MrPjE"
      },
      "outputs": [],
      "source": [
        "# @title Metrici personalizati\n",
        "\n",
        "import tensorflow.keras.backend as K\n",
        "\n",
        "def iou_multiclass(y_true, y_pred):\n",
        "  # Convertim predictia softmax in argmax\n",
        "  y_pred = tf.argmax(y_pred, axis=-1, output_type=tf.int32)\n",
        "\n",
        "  y_true = tf.squeeze(y_true, axis=-1) # Daca masca are inca un canal 1\n",
        "  y_true = tf.cast(y_true, tf.int32)\n",
        "\n",
        "  intersection = tf.reduce_sum(tf.cast(tf.equal(y_true, y_pred), tf.float32))\n",
        "  union = tf.reduce_sum(tf.ones_like(y_true, dtype=tf.float32))\n",
        "\n",
        "  return intersection / (union + K.epsilon())\n",
        "\n",
        "def dice_multiclass(y_true, y_pred):\n",
        "  # Convertim predictia softmax in argmax\n",
        "  y_pred = tf.argmax(y_pred, axis=-1, output_type=tf.int32)\n",
        "\n",
        "  y_true = tf.squeeze(y_true, axis=-1) # Daca masca are inca un canal 1\n",
        "  y_true = tf.cast(y_true, tf.int32)\n",
        "\n",
        "  y_true_one_hot = tf.one_hot(y_true, depth=8)\n",
        "  y_pred_one_hot = tf.one_hot(y_pred, depth=8)\n",
        "\n",
        "  intersection = tf.reduce_sum(y_true_one_hot * y_pred_one_hot)\n",
        "  denominator = tf.reduce_sum(y_true_one_hot) + tf.reduce_sum(y_pred_one_hot)\n",
        "\n",
        "  return 2.0 * intersection / (denominator + K.epsilon())"
      ]
    },
    {
      "cell_type": "code",
      "execution_count": null,
      "metadata": {
        "id": "XSlWjSpvktZc"
      },
      "outputs": [],
      "source": [
        "# @title Compilam modelul\n",
        "\n",
        "multiclass_CNN = build_simple_cnn_multiclass()\n",
        "\n",
        "multiclass_CNN.compile(optimizer='adam', loss='sparse_categorical_crossentropy', metrics=[\"sparse_categorical_accuracy\", iou_multiclass, dice_multiclass])\n",
        "\n",
        "multiclass_CNN.summary()"
      ]
    },
    {
      "cell_type": "code",
      "execution_count": null,
      "metadata": {
        "id": "7x_Y49fapvqm"
      },
      "outputs": [],
      "source": [
        "# @title Antrenare\n",
        "\n",
        "train = multiclass_CNN.fit(train_dataset, validation_data=validation_dataset, epochs=5)"
      ]
    },
    {
      "cell_type": "code",
      "execution_count": null,
      "metadata": {
        "colab": {
          "background_save": true
        },
        "id": "amgxD_f1JLRt"
      },
      "outputs": [],
      "source": [
        "# @title Testam modelul\n",
        "\n",
        "test_img_path = \"/content/drive/MyDrive/Facultate/Licenta/ds1/test/img/cls\"\n",
        "test_mask_path = \"/content/drive/MyDrive/Facultate/Licenta/ds1/test/mult_mask/cls\"\n",
        "\n",
        "test_imgs, test_masks = load_paths(test_img_path, test_mask_path)\n",
        "\n",
        "test_dataset = create_dataset(test_imgs, test_masks, shuffle=False)\n",
        "\n",
        "results = multiclass_CNN.evaluate(test_dataset)\n",
        "print(\"Test loss:\", results[0])\n",
        "print(\"Test accuracy:\", results[1])\n",
        "print(\"Test IoU:\", results[2])\n",
        "print(\"Test Dice:\", results[3])"
      ]
    },
    {
      "cell_type": "code",
      "execution_count": null,
      "metadata": {
        "id": "uju34HXLZL9q"
      },
      "outputs": [],
      "source": []
    },
    {
      "cell_type": "markdown",
      "metadata": {
        "id": "lkU9ysmFaivR"
      },
      "source": [
        "# Vizualizare"
      ]
    },
    {
      "cell_type": "code",
      "execution_count": null,
      "metadata": {
        "colab": {
          "background_save": true
        },
        "id": "Sca_F0FwaqSL"
      },
      "outputs": [],
      "source": [
        "# @title Colorare masca\n",
        "\n",
        "palette = np.array([\n",
        "  [0, 0, 0],       # 0: Fundal - Negru\n",
        "  [255, 0, 0],     # 1: Rod (bacterie) - Rosu\n",
        "  [0, 255, 0],     # 2: RBC/WBC - Verde\n",
        "  [0, 0, 255],     # 3: Yeast - Albastru\n",
        "  [255, 255, 0],   # 4: Miscellaneous - Galben\n",
        "  [255, 0, 255],   # 5: Single EPC - Magenta\n",
        "  [0, 255, 255],   # 6: Small EPC sheet - Cyan\n",
        "  [255, 255, 255]  # 7: Large EPC sheet - Alb\n",
        "], dtype=np.uint8)"
      ]
    },
    {
      "cell_type": "code",
      "execution_count": null,
      "metadata": {
        "id": "XuaNIsjTbRuZ"
      },
      "outputs": [],
      "source": [
        "# @ Vizualizare imagine + ground truth + predictie\n",
        "\n",
        "import os\n",
        "\n",
        "# 1. Creăm directorul pentru salvare dacă nu există\n",
        "output_dir = \"/content/outputs_test\"\n",
        "os.makedirs(output_dir, exist_ok=True)\n",
        "\n",
        "# 2. Funcție color map (o refacem puțin robustă)\n",
        "def apply_color_map(mask):\n",
        "    mask = tf.squeeze(mask, axis=-1)\n",
        "    mask = tf.cast(mask, tf.int32)\n",
        "    mask = mask.numpy()\n",
        "    color_mask = palette[mask]\n",
        "    return color_mask\n",
        "\n",
        "# 3. Parcurgem batch-uri și salvăm imaginile\n",
        "for batch_idx, (images, masks) in enumerate(test_dataset.take(5)):  # luam 5 batch-uri\n",
        "    preds = multiclass_CNN.predict(images)\n",
        "    preds = tf.argmax(preds, axis=-1)\n",
        "    preds = tf.expand_dims(preds, axis=-1)\n",
        "\n",
        "    batch_size = images.shape[0]\n",
        "\n",
        "    for i in range(batch_size):\n",
        "        plt.figure(figsize=(24, 8))\n",
        "\n",
        "        # Imagine originală\n",
        "        plt.subplot(1, 3, 1)\n",
        "        plt.imshow(tf.squeeze(images[i]), cmap='gray')\n",
        "        plt.title('Imagine originală')\n",
        "        plt.axis('off')\n",
        "\n",
        "        # Ground Truth colorat\n",
        "        plt.subplot(1, 3, 2)\n",
        "        gt_color = apply_color_map(masks[i])\n",
        "        plt.imshow(gt_color)\n",
        "        plt.title('Ground Truth')\n",
        "        plt.axis('off')\n",
        "\n",
        "        # Predicție multiclass_CNN colorată\n",
        "        plt.subplot(1, 3, 3)\n",
        "        pred_color = apply_color_map(preds[i])\n",
        "        plt.imshow(pred_color)\n",
        "        plt.title('Predicție multiclass_CNN')\n",
        "        plt.axis('off')\n",
        "\n",
        "        plt.tight_layout()\n",
        "\n",
        "        # Salvăm imaginea\n",
        "        save_path = os.path.join(output_dir, f\"batch{batch_idx}_img{i}.png\")\n",
        "        plt.savefig(save_path)\n",
        "        plt.close()  # închidem figura ca să nu consume memorie\n",
        "\n",
        "print(f\"Salvat imaginile în {output_dir}\")\n"
      ]
    },
    {
      "cell_type": "code",
      "execution_count": null,
      "metadata": {
        "id": "acbOCKwJlwSS"
      },
      "outputs": [],
      "source": [
        "for images, masks in train_dataset.take(1):\n",
        "  print(\"Shape imagini:\", images.shape)\n",
        "  print(\"Shape măști:\", masks.shape)\n",
        "  print(\"Valori unice în măști:\", tf.unique(tf.reshape(masks, [-1]))[0].numpy())\n",
        "\n",
        "  print(multiclass_CNN.summary())\n",
        "  print(multiclass_CNN.loss)\n",
        "  print(multiclass_CNN.metrics_names)\n",
        "\n",
        "  preds = multiclass_CNN.predict(images)\n",
        "  preds = tf.argmax(preds, axis=-1)\n"
      ]
    },
    {
      "cell_type": "code",
      "execution_count": null,
      "metadata": {
        "id": "fSj-mjh0lyvP"
      },
      "outputs": [],
      "source": []
    }
  ],
  "metadata": {
    "colab": {
      "provenance": []
    },
    "kernelspec": {
      "display_name": "Python 3",
      "name": "python3"
    },
    "language_info": {
      "name": "python"
    }
  },
  "nbformat": 4,
  "nbformat_minor": 0
}